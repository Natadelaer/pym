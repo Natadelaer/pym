{
 "cells": [
  {
   "cell_type": "code",
   "execution_count": 1,
   "id": "f6f89233",
   "metadata": {
    "scrolled": false
   },
   "outputs": [
    {
     "data": {
      "application/vnd.jupyter.widget-view+json": {
       "model_id": "389249481b874d579ff8ed770ae997dc",
       "version_major": 2,
       "version_minor": 0
      },
      "text/plain": [
       "FileUpload(value=(), accept='.csv', description='Upload')"
      ]
     },
     "metadata": {},
     "output_type": "display_data"
    },
    {
     "data": {
      "application/vnd.jupyter.widget-view+json": {
       "model_id": "0452d6427a584318a71a844e45c6f8ec",
       "version_major": 2,
       "version_minor": 0
      },
      "text/plain": [
       "Text(value='', description='Фраза:', placeholder='Введите фразу для поиска')"
      ]
     },
     "metadata": {},
     "output_type": "display_data"
    },
    {
     "data": {
      "application/vnd.jupyter.widget-view+json": {
       "model_id": "c4e469fe762b470688a3bfdedad7264a",
       "version_major": 2,
       "version_minor": 0
      },
      "text/plain": [
       "Button(description='Найти', style=ButtonStyle())"
      ]
     },
     "metadata": {},
     "output_type": "display_data"
    },
    {
     "data": {
      "application/vnd.jupyter.widget-view+json": {
       "model_id": "e5f8000722b54021830e263320f7ab91",
       "version_major": 2,
       "version_minor": 0
      },
      "text/plain": [
       "Button(description='Объединить фразу', style=ButtonStyle())"
      ]
     },
     "metadata": {},
     "output_type": "display_data"
    },
    {
     "data": {
      "application/vnd.jupyter.widget-view+json": {
       "model_id": "b9a73899e6ff4adb96589adfb6e96441",
       "version_major": 2,
       "version_minor": 0
      },
      "text/plain": [
       "Button(description='Коллокации', style=ButtonStyle())"
      ]
     },
     "metadata": {},
     "output_type": "display_data"
    },
    {
     "data": {
      "application/vnd.jupyter.widget-view+json": {
       "model_id": "6e9c39aa23924194acb7483c66802927",
       "version_major": 2,
       "version_minor": 0
      },
      "text/plain": [
       "Output()"
      ]
     },
     "metadata": {},
     "output_type": "display_data"
    },
    {
     "name": "stdout",
     "output_type": "stream",
     "text": [
      "Файл загружен.\n"
     ]
    }
   ],
   "source": [
    "import pandas as pd\n",
    "import pymorphy2\n",
    "from termcolor import colored\n",
    "import ipywidgets as widgets\n",
    "from IPython.display import display\n",
    "from nltk import bigrams\n",
    "from nltk import FreqDist\n",
    "from io import BytesIO\n",
    "\n",
    "morph = pymorphy2.MorphAnalyzer()\n",
    "\n",
    "file_upload = widgets.FileUpload(\n",
    "    accept='.csv',  # Принимать только файлы CSV\n",
    "    multiple=False  # Разрешить загрузку только одного файла\n",
    ")\n",
    "\n",
    "input_phrase = widgets.Text(\n",
    "    value='',\n",
    "    placeholder='Введите фразу для поиска',\n",
    "    description='Фраза:',\n",
    "    disabled=False\n",
    ")\n",
    "\n",
    "search_button = widgets.Button(description=\"Найти\")\n",
    "merge_button = widgets.Button(description=\"Объединить фразу\")\n",
    "collocations_button = widgets.Button(description=\"Коллокации\")\n",
    "\n",
    "output = widgets.Output()\n",
    "\n",
    "dataset = None  # Объявление переменной в глобальной области видимости\n",
    "\n",
    "def on_file_upload_change(change):\n",
    "    global dataset  # Объявление, что мы хотим использовать глобальную переменную\n",
    "    content = file_upload.value[0]['content']\n",
    "    dataset = pd.read_csv(BytesIO(content), sep=';', header=None)\n",
    "    dataset.columns = ['num', 'url', 'name']\n",
    "    print(\"Файл загружен.\")\n",
    "\n",
    "\n",
    "def on_search_button_clicked(b):\n",
    "    with output:\n",
    "        input_text = input_phrase.value\n",
    "        parsed_input_phrase = [morph.parse(word)[0].normal_form for word in input_text.lower().split()]\n",
    "        matching_rows = []\n",
    "        for index, row in dataset.iterrows():\n",
    "            if isinstance(row['name'], str):\n",
    "                row_text_lower = row['name'].lower()\n",
    "                for word in parsed_input_phrase:\n",
    "                    if word in row_text_lower:\n",
    "                        matching_rows.append(row['name'])\n",
    "                        break\n",
    "        if matching_rows:\n",
    "            print(\"Найденные строки:\")\n",
    "            for row in matching_rows:\n",
    "                highlighted_row = row\n",
    "                for word in parsed_input_phrase:\n",
    "                    highlighted_row = highlighted_row.replace(word, colored(word, 'green'))\n",
    "                print(highlighted_row)\n",
    "        else:\n",
    "            print(\"Подходящие строки не найдены.\")\n",
    "\n",
    "\n",
    "def on_merge_button_clicked(b):\n",
    "    with output:\n",
    "        input_text = input_phrase.value\n",
    "        parsed_input_phrase = [morph.parse(word)[0].normal_form for word in input_text.lower().split()]\n",
    "        merged_phrase = ' '.join(parsed_input_phrase)\n",
    "        print(\"Объединенная фраза:\", merged_phrase)\n",
    "        \n",
    "        matching_rows = dataset[dataset['name'].apply(lambda x: isinstance(x, str) and all(word in x.lower() for word in parsed_input_phrase))]\n",
    "        if not matching_rows.empty:\n",
    "            print(\"\\nНайденные строки:\")\n",
    "            for index, row in matching_rows.iterrows():\n",
    "                print(row['name'])\n",
    "        else:\n",
    "            print(\"Подходящие строки не найдены.\")\n",
    "\n",
    "\n",
    "def on_collocations_button_clicked(b):\n",
    "    with output:\n",
    "        input_text = input_phrase.value\n",
    "        parsed_input_phrase = [morph.parse(word)[0].normal_form for word in input_text.lower().split()]\n",
    "        \n",
    "        collocations = []\n",
    "        for index, row in dataset.iterrows():\n",
    "            if isinstance(row['name'], str):\n",
    "                row_text_lower = row['name'].lower()\n",
    "                if all(word in row_text_lower for word in parsed_input_phrase):\n",
    "                    words_in_row = row_text_lower.split()\n",
    "                    collocations.extend(list(bigrams(words_in_row)))\n",
    "\n",
    "        fdist = FreqDist(collocations)\n",
    "        print(\"Коллокации:\")\n",
    "        for collocation, freq in fdist.items():\n",
    "            if all(word in collocation for word in parsed_input_phrase):\n",
    "                print(collocation, \":\", freq)\n",
    "\n",
    "\n",
    "file_upload.observe(on_file_upload_change, names='value')\n",
    "search_button.on_click(on_search_button_clicked)\n",
    "merge_button.on_click(on_merge_button_clicked)\n",
    "collocations_button.on_click(on_collocations_button_clicked)\n",
    "\n",
    "display(file_upload, input_phrase, search_button, merge_button, collocations_button, output)"
   ]
  },
  {
   "cell_type": "code",
   "execution_count": null,
   "id": "266fa747",
   "metadata": {},
   "outputs": [],
   "source": []
  }
 ],
 "metadata": {
  "kernelspec": {
   "display_name": "Python 3 (ipykernel)",
   "language": "python",
   "name": "python3"
  },
  "language_info": {
   "codemirror_mode": {
    "name": "ipython",
    "version": 3
   },
   "file_extension": ".py",
   "mimetype": "text/x-python",
   "name": "python",
   "nbconvert_exporter": "python",
   "pygments_lexer": "ipython3",
   "version": "3.10.9"
  }
 },
 "nbformat": 4,
 "nbformat_minor": 5
}
